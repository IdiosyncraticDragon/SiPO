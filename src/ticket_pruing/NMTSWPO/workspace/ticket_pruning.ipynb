{
 "cells": [
  {
   "cell_type": "code",
   "execution_count": 6,
   "metadata": {},
   "outputs": [],
   "source": [
    "from masked_network import MaskedModel\n",
    "import torch\n",
    "import sys\n",
    "\n",
    "sys.path.insert(0, '/fl')\n",
    "sys.path.insert(0, '/fl/NMTSWPO')\n",
    "sys.path.insert(0, '/fl/LMSWPO/tnnls_workspace')\n",
    "sys.path.insert(0, '/fl/LMSWPO/tnnls_workspace/package')\n",
    "sys.path.insert(0, '/fl/NMTSWPO/workspace')\n",
    "\n",
    "def translate_opt_initialize(trans_p, trans_dum_p):\n",
    "   translate_opt = torch.load(trans_p)\n",
    "   translate_dummy_opt = torch.load(trans_dum_p)\n",
    "   translate_opt.src = '/fl/data/wmt/wmt14-de-en/from_sru/en-de/en-test.txt'\n",
    "   translate_opt.tgt = '/fl/data/wmt/wmt14-de-en/from_sru/en-de/de-test.txt'\n",
    "   translate_opt.start_epoch = 2\n",
    "   translate_opt.model = 0\n",
    "   translate_opt.gpu = 1\n",
    "   #translate_opt.beam_size = 1\n",
    "\n",
    "   return translate_opt, translate_dummy_opt\n",
    "   \n",
    "translate_opt, translate_dummy_opt = translate_opt_initialize('/fl/NMTSWPO/workspace/opennmt_translate_opt.pt', '/fl/NMTSWPO/workspace/opennmt_translate_dummy_opt.pt')"
   ]
  },
  {
   "cell_type": "code",
   "execution_count": 7,
   "metadata": {},
   "outputs": [
    {
     "data": {
      "text/plain": [
       "Namespace(attn_debug=False, batch_size=1, beam_size=5, cuda=True, dump_beam='', dynamic_dict=False, gpu=1, max_sent_length=100, model=0, n_best=1, output='pred_ende.txt', replace_unk=True, share_vocab=False, src='/fl/data/wmt/wmt14-de-en/from_sru/en-de/en-test.txt', src_img_dir='', start_epoch=2, tgt='/fl/data/wmt/wmt14-de-en/from_sru/en-de/de-test.txt', verbose=True)"
      ]
     },
     "execution_count": 7,
     "metadata": {},
     "output_type": "execute_result"
    }
   ],
   "source": [
    "translate_opt"
   ]
  },
  {
   "cell_type": "code",
   "execution_count": 8,
   "metadata": {},
   "outputs": [
    {
     "data": {
      "text/plain": [
       "Namespace(brnn=None, brnn_merge='concat', cnn_kernel_width=3, context_gate=None, copy_attn=False, copy_attn_force=False, coverage_attn=False, dec_layers=2, decoder_type='rnn', enc_layers=2, encoder_type='rnn', feat_merge='concat', feat_vec_exponent=0.7, feat_vec_size=-1, global_attention='general', input_feed=1, lambda_coverage=1, layers=-1, model_type='text', position_encoding=False, rnn_size=500, rnn_type='LSTM', share_decoder_embeddings=False, share_embeddings=False, src_word_vec_size=500, tgt_word_vec_size=500, word_vec_size=-1)"
      ]
     },
     "execution_count": 8,
     "metadata": {},
     "output_type": "execute_result"
    }
   ],
   "source": [
    "translate_dummy_opt"
   ]
  }
 ],
 "metadata": {
  "interpreter": {
   "hash": "51b1625efd379ac61b1c45906b09f4e5e5fa760ca8669e63dafaa14499559c25"
  },
  "kernelspec": {
   "display_name": "Python 3.6.5 64-bit ('pytorch0.3': conda)",
   "name": "python3"
  },
  "language_info": {
   "codemirror_mode": {
    "name": "ipython",
    "version": 3
   },
   "file_extension": ".py",
   "mimetype": "text/x-python",
   "name": "python",
   "nbconvert_exporter": "python",
   "pygments_lexer": "ipython3",
   "version": "3.6.5"
  },
  "orig_nbformat": 4
 },
 "nbformat": 4,
 "nbformat_minor": 2
}
